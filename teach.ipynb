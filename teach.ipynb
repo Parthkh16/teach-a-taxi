{
 "cells": [
  {
   "cell_type": "code",
   "execution_count": 1,
   "metadata": {},
   "outputs": [],
   "source": [
    "import gym\n",
    "import numpy as np\n",
    "import random\n",
    "import matplotlib.pyplot as plt\n"
   ]
  },
  {
   "cell_type": "code",
   "execution_count": 7,
   "metadata": {},
   "outputs": [
    {
     "name": "stdout",
     "output_type": "stream",
     "text": [
      "+---------+\n",
      "|R: | : :G|\n",
      "| : | : : |\n",
      "| : : : : |\n",
      "| | : | :\u001b[43m \u001b[0m|\n",
      "|\u001b[35mY\u001b[0m| : |\u001b[34;1mB\u001b[0m: |\n",
      "+---------+\n",
      "\n",
      "\n"
     ]
    }
   ],
   "source": [
    "import gymnasium as gym\n",
    "\n",
    "env = gym.make(\"Taxi-v3\", render_mode=\"ansi\")  # Gymnasium supports this properly\n",
    "env.reset()\n",
    "print(env.render())  # No need for mode=\"ansi\" here\n"
   ]
  },
  {
   "cell_type": "code",
   "execution_count": 8,
   "metadata": {},
   "outputs": [],
   "source": [
    "import numpy as np\n",
    "\n",
    "# Initialize Q-table (500 states × 6 actions) with zeros\n",
    "q_table = np.zeros([env.observation_space.n, env.action_space.n])\n"
   ]
  },
  {
   "cell_type": "code",
   "execution_count": 9,
   "metadata": {},
   "outputs": [],
   "source": [
    "alpha = 0.1  # Learning rate\n",
    "gamma = 0.6  # Discount factor (importance of future rewards)\n",
    "epsilon = 0.1  # Exploration rate (chance of random actions)\n",
    "episodes = 100000  # Total training iterations\n"
   ]
  },
  {
   "cell_type": "code",
   "execution_count": 10,
   "metadata": {},
   "outputs": [],
   "source": [
    "import random\n",
    "\n",
    "for i in range(episodes):\n",
    "    state, _ = env.reset()  # Reset environment\n",
    "    done = False\n",
    "\n",
    "    while not done:\n",
    "        # Choose action: explore (random) or exploit (best Q-value)\n",
    "        if random.uniform(0, 1) < epsilon:\n",
    "            action = env.action_space.sample()  # Explore\n",
    "        else:\n",
    "            action = np.argmax(q_table[state])  # Exploit best known action\n",
    "\n",
    "        next_state, reward, done, _, _ = env.step(action)  # Take action\n",
    "\n",
    "        # Update Q-value using Bellman Equation\n",
    "        old_value = q_table[state, action]\n",
    "        next_max = np.max(q_table[next_state])\n",
    "        q_table[state, action] = (1 - alpha) * old_value + alpha * (reward + gamma * next_max)\n",
    "\n",
    "        state = next_state  # Move to next state\n"
   ]
  },
  {
   "cell_type": "code",
   "execution_count": 15,
   "metadata": {},
   "outputs": [
    {
     "name": "stdout",
     "output_type": "stream",
     "text": [
      "Results after 100 episodes:\n",
      "Average timesteps per episode: 12.88\n",
      "Average penalties per episode: 0.0\n"
     ]
    }
   ],
   "source": [
    "total_epochs, total_penalties = 0, 0\n",
    "test_episodes = 100\n",
    "\n",
    "for _ in range(test_episodes):\n",
    "    state, _ = env.reset()\n",
    "    epochs, penalties = 0, 0\n",
    "    done = False\n",
    "\n",
    "    while not done:\n",
    "        action = np.argmax(q_table[state])  # Always choose the best action\n",
    "        state, reward, done, _, _ = env.step(action)\n",
    "\n",
    "        if reward == -10:\n",
    "            penalties += 1\n",
    "\n",
    "        epochs += 1\n",
    "\n",
    "    total_penalties += penalties\n",
    "    total_epochs += epochs\n",
    "\n",
    "print(f\"Results after {test_episodes} episodes:\")\n",
    "print(f\"Average timesteps per episode: {total_epochs / test_episodes}\")\n",
    "print(f\"Average penalties per episode: {total_penalties / test_episodes}\")\n"
   ]
  },
  {
   "cell_type": "code",
   "execution_count": 16,
   "metadata": {},
   "outputs": [
    {
     "name": "stdout",
     "output_type": "stream",
     "text": [
      "+---------+\n",
      "|R: | : :\u001b[35m\u001b[42mG\u001b[0m\u001b[0m|\n",
      "| : | : : |\n",
      "| : : : : |\n",
      "| | : | : |\n",
      "|Y| : |B: |\n",
      "+---------+\n",
      "  (East)\n",
      "\n",
      "Total Steps: 13\n"
     ]
    }
   ],
   "source": [
    "import time\n",
    "from IPython.display import clear_output\n",
    "\n",
    "def visualize_agent():\n",
    "    state, _ = env.reset()\n",
    "    done = False\n",
    "    total_steps = 0\n",
    "\n",
    "    while not done:\n",
    "        clear_output(wait=True)\n",
    "        print(env.render())  # Show taxi environment\n",
    "\n",
    "        action = np.argmax(q_table[state])  # Choose best action\n",
    "        state, reward, done, _, _ = env.step(action)\n",
    "\n",
    "        time.sleep(0.5)  # Slow down for better visualization\n",
    "        total_steps += 1\n",
    "\n",
    "    print(f\"Total Steps: {total_steps}\")\n",
    "\n",
    "visualize_agent()\n"
   ]
  },
  {
   "cell_type": "code",
   "execution_count": 13,
   "metadata": {},
   "outputs": [],
   "source": [
    "alpha = 0.2  # Increase learning rate for faster updates\n",
    "gamma = 0.9  # Increase discount factor to consider future rewards more\n",
    "epsilon = 0.05  # Reduce exploration as the agent is trained\n"
   ]
  },
  {
   "cell_type": "code",
   "execution_count": null,
   "metadata": {},
   "outputs": [],
   "source": []
  }
 ],
 "metadata": {
  "kernelspec": {
   "display_name": "Python 3",
   "language": "python",
   "name": "python3"
  },
  "language_info": {
   "codemirror_mode": {
    "name": "ipython",
    "version": 3
   },
   "file_extension": ".py",
   "mimetype": "text/x-python",
   "name": "python",
   "nbconvert_exporter": "python",
   "pygments_lexer": "ipython3",
   "version": "3.12.6"
  }
 },
 "nbformat": 4,
 "nbformat_minor": 2
}
